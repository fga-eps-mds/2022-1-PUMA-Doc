{
 "cells": [
  {
   "cell_type": "markdown",
   "metadata": {},
   "source": [
    "# Analytics - Product Quality"
   ]
  },
  {
   "cell_type": "markdown",
   "metadata": {},
   "source": [
    "#### Date: 2020/02\n",
    "\n",
    "#### SUMMARY:\n",
    "\n",
    "- This notebook represents the project quality analysis of the date exposed right above. "
   ]
  },
  {
   "cell_type": "markdown",
   "metadata": {},
   "source": [
    "### TEAM:\n",
    "\n",
    "##### Semester: YYYY/0X\n",
    "##### Professor: Hilmer Neri\n",
    "\n",
    "##### Members:\n",
    "\n",
    "- Member x\n",
    "- Member y"
   ]
  },
  {
   "cell_type": "markdown",
   "metadata": {},
   "source": [
    "### LIBRARIES"
   ]
  },
  {
   "cell_type": "code",
   "execution_count": 767,
   "metadata": {},
   "outputs": [],
   "source": [
    "# Deal with data\n",
    "import pandas as pd\n",
    "import json\n",
    "from glob import glob\n",
    "import os\n",
    "import re\n",
    "\n",
    "# Deal with visualization\n",
    "import matplotlib.pyplot as plt\n",
    "\n",
    "# Deal with time\n",
    "import datetime"
   ]
  },
  {
   "cell_type": "markdown",
   "metadata": {},
   "source": [
    "### GRAPH SETTINGS"
   ]
  },
  {
   "cell_type": "code",
   "execution_count": 768,
   "metadata": {
    "collapsed": false,
    "pycharm": {
     "name": "#%%\n"
    }
   },
   "outputs": [
    {
     "data": {
      "text/plain": [
       "<Figure size 1440x720 with 0 Axes>"
      ]
     },
     "metadata": {},
     "output_type": "display_data"
    }
   ],
   "source": [
    "fig = plt.figure(figsize=(20, 10))"
   ]
  },
  {
   "cell_type": "markdown",
   "metadata": {},
   "source": [
    "### DATAFRAME SETTINGS"
   ]
  },
  {
   "cell_type": "code",
   "execution_count": 769,
   "metadata": {},
   "outputs": [],
   "source": [
    "pd.set_option(\"display.max_rows\", None, \"display.max_columns\", None)"
   ]
  },
  {
   "cell_type": "markdown",
   "metadata": {
    "collapsed": false
   },
   "source": [
    "#### Replace your semester, project name, repository name, and the programming language extension"
   ]
  },
  {
   "cell_type": "code",
   "execution_count": 770,
   "metadata": {
    "collapsed": false,
    "pycharm": {
     "name": "#%%\n"
    }
   },
   "outputs": [],
   "source": [
    "language = [['fga-eps-mds-2022-1-PUMA-Frontend', 'js'],\n",
    "            ['fga-eps-mds-2022-1-PUMA-AlocateService', 'js'],\n",
    "            ['fga-eps-mds-2022-1-PUMA-ApiGateway', 'js'],\n",
    "            ['fga-eps-mds-2022-1-PUMA-NotifyService', 'js'],\n",
    "            ['fga-eps-mds-2022-1-PUMA-ProjectService', 'js'],\n",
    "            ['fga-eps-mds-2022-1-PUMA-UserService', 'js']]\n",
    "\n",
    "repos_language = {}\n",
    "\n",
    "for item in language:\n",
    "    repos_language[f\"{item[0]}\"] = item[1]"
   ]
  },
  {
   "cell_type": "markdown",
   "metadata": {},
   "source": [
    "### SonarCloud"
   ]
  },
  {
   "cell_type": "markdown",
   "metadata": {},
   "source": [
    "##### Path to the folder with all your jsons"
   ]
  },
  {
   "cell_type": "code",
   "execution_count": 771,
   "metadata": {},
   "outputs": [],
   "source": [
    "jsons = glob('analytics-raw-data/*.json')"
   ]
  },
  {
   "cell_type": "code",
   "execution_count": 772,
   "metadata": {},
   "outputs": [],
   "source": [
    "def read_json(json_path):\n",
    "    \n",
    "    with open(json_path) as json_file:\n",
    "        json_obj = json.load(json_file)\n",
    "        \n",
    "    return json_obj\n",
    "\n",
    "def create_base_component_df(json_list):\n",
    "    \n",
    "    df = pd.DataFrame()\n",
    "\n",
    "    for i in json_list:\n",
    "        base_component = read_json(i)\n",
    "\n",
    "        base_component_data = base_component['baseComponent']['measures']\n",
    "\n",
    "        base_component_df = pd.DataFrame(base_component_data)\n",
    "\n",
    "        base_component_df['filename'] = os.path.basename(i)\n",
    "\n",
    "        df = df.append(base_component_df, ignore_index=True)\n",
    "        \n",
    "    # Replace the UnB semester with yours.\n",
    "    aux_df = df['filename'].str.split(r\"fga-eps-mds-2022.1-(.*?)-(.*?)-(.*?)-(.*?)-v(.*?).json\", expand=True)\n",
    "\n",
    "    df['repository'] = aux_df[2]\n",
    "\n",
    "    df['version'] = aux_df[5]\n",
    "\n",
    "    df = df.sort_values(by=['repository', 'version'])\n",
    "        \n",
    "    return df"
   ]
  },
  {
   "cell_type": "markdown",
   "metadata": {},
   "source": [
    "#### Create base component dataframe"
   ]
  },
  {
   "cell_type": "code",
   "execution_count": 773,
   "metadata": {},
   "outputs": [
    {
     "name": "stderr",
     "output_type": "stream",
     "text": [
      "<ipython-input-772-8cf5b077493c>:21: FutureWarning: The frame.append method is deprecated and will be removed from pandas in a future version. Use pandas.concat instead.\n",
      "  df = df.append(base_component_df, ignore_index=True)\n",
      "<ipython-input-772-8cf5b077493c>:21: FutureWarning: The frame.append method is deprecated and will be removed from pandas in a future version. Use pandas.concat instead.\n",
      "  df = df.append(base_component_df, ignore_index=True)\n",
      "<ipython-input-772-8cf5b077493c>:21: FutureWarning: The frame.append method is deprecated and will be removed from pandas in a future version. Use pandas.concat instead.\n",
      "  df = df.append(base_component_df, ignore_index=True)\n",
      "<ipython-input-772-8cf5b077493c>:21: FutureWarning: The frame.append method is deprecated and will be removed from pandas in a future version. Use pandas.concat instead.\n",
      "  df = df.append(base_component_df, ignore_index=True)\n",
      "<ipython-input-772-8cf5b077493c>:21: FutureWarning: The frame.append method is deprecated and will be removed from pandas in a future version. Use pandas.concat instead.\n",
      "  df = df.append(base_component_df, ignore_index=True)\n",
      "<ipython-input-772-8cf5b077493c>:21: FutureWarning: The frame.append method is deprecated and will be removed from pandas in a future version. Use pandas.concat instead.\n",
      "  df = df.append(base_component_df, ignore_index=True)\n",
      "<ipython-input-772-8cf5b077493c>:21: FutureWarning: The frame.append method is deprecated and will be removed from pandas in a future version. Use pandas.concat instead.\n",
      "  df = df.append(base_component_df, ignore_index=True)\n",
      "<ipython-input-772-8cf5b077493c>:21: FutureWarning: The frame.append method is deprecated and will be removed from pandas in a future version. Use pandas.concat instead.\n",
      "  df = df.append(base_component_df, ignore_index=True)\n",
      "<ipython-input-772-8cf5b077493c>:21: FutureWarning: The frame.append method is deprecated and will be removed from pandas in a future version. Use pandas.concat instead.\n",
      "  df = df.append(base_component_df, ignore_index=True)\n",
      "<ipython-input-772-8cf5b077493c>:21: FutureWarning: The frame.append method is deprecated and will be removed from pandas in a future version. Use pandas.concat instead.\n",
      "  df = df.append(base_component_df, ignore_index=True)\n",
      "<ipython-input-772-8cf5b077493c>:21: FutureWarning: The frame.append method is deprecated and will be removed from pandas in a future version. Use pandas.concat instead.\n",
      "  df = df.append(base_component_df, ignore_index=True)\n",
      "<ipython-input-772-8cf5b077493c>:21: FutureWarning: The frame.append method is deprecated and will be removed from pandas in a future version. Use pandas.concat instead.\n",
      "  df = df.append(base_component_df, ignore_index=True)\n",
      "<ipython-input-772-8cf5b077493c>:21: FutureWarning: The frame.append method is deprecated and will be removed from pandas in a future version. Use pandas.concat instead.\n",
      "  df = df.append(base_component_df, ignore_index=True)\n",
      "<ipython-input-772-8cf5b077493c>:21: FutureWarning: The frame.append method is deprecated and will be removed from pandas in a future version. Use pandas.concat instead.\n",
      "  df = df.append(base_component_df, ignore_index=True)\n",
      "<ipython-input-772-8cf5b077493c>:21: FutureWarning: The frame.append method is deprecated and will be removed from pandas in a future version. Use pandas.concat instead.\n",
      "  df = df.append(base_component_df, ignore_index=True)\n",
      "<ipython-input-772-8cf5b077493c>:21: FutureWarning: The frame.append method is deprecated and will be removed from pandas in a future version. Use pandas.concat instead.\n",
      "  df = df.append(base_component_df, ignore_index=True)\n",
      "<ipython-input-772-8cf5b077493c>:21: FutureWarning: The frame.append method is deprecated and will be removed from pandas in a future version. Use pandas.concat instead.\n",
      "  df = df.append(base_component_df, ignore_index=True)\n",
      "<ipython-input-772-8cf5b077493c>:21: FutureWarning: The frame.append method is deprecated and will be removed from pandas in a future version. Use pandas.concat instead.\n",
      "  df = df.append(base_component_df, ignore_index=True)\n",
      "<ipython-input-772-8cf5b077493c>:21: FutureWarning: The frame.append method is deprecated and will be removed from pandas in a future version. Use pandas.concat instead.\n",
      "  df = df.append(base_component_df, ignore_index=True)\n",
      "<ipython-input-772-8cf5b077493c>:21: FutureWarning: The frame.append method is deprecated and will be removed from pandas in a future version. Use pandas.concat instead.\n",
      "  df = df.append(base_component_df, ignore_index=True)\n",
      "<ipython-input-772-8cf5b077493c>:21: FutureWarning: The frame.append method is deprecated and will be removed from pandas in a future version. Use pandas.concat instead.\n",
      "  df = df.append(base_component_df, ignore_index=True)\n",
      "<ipython-input-772-8cf5b077493c>:21: FutureWarning: The frame.append method is deprecated and will be removed from pandas in a future version. Use pandas.concat instead.\n",
      "  df = df.append(base_component_df, ignore_index=True)\n",
      "<ipython-input-772-8cf5b077493c>:21: FutureWarning: The frame.append method is deprecated and will be removed from pandas in a future version. Use pandas.concat instead.\n",
      "  df = df.append(base_component_df, ignore_index=True)\n",
      "<ipython-input-772-8cf5b077493c>:21: FutureWarning: The frame.append method is deprecated and will be removed from pandas in a future version. Use pandas.concat instead.\n",
      "  df = df.append(base_component_df, ignore_index=True)\n",
      "<ipython-input-772-8cf5b077493c>:21: FutureWarning: The frame.append method is deprecated and will be removed from pandas in a future version. Use pandas.concat instead.\n",
      "  df = df.append(base_component_df, ignore_index=True)\n",
      "<ipython-input-772-8cf5b077493c>:21: FutureWarning: The frame.append method is deprecated and will be removed from pandas in a future version. Use pandas.concat instead.\n",
      "  df = df.append(base_component_df, ignore_index=True)\n",
      "<ipython-input-772-8cf5b077493c>:21: FutureWarning: The frame.append method is deprecated and will be removed from pandas in a future version. Use pandas.concat instead.\n",
      "  df = df.append(base_component_df, ignore_index=True)\n",
      "<ipython-input-772-8cf5b077493c>:21: FutureWarning: The frame.append method is deprecated and will be removed from pandas in a future version. Use pandas.concat instead.\n",
      "  df = df.append(base_component_df, ignore_index=True)\n",
      "<ipython-input-772-8cf5b077493c>:21: FutureWarning: The frame.append method is deprecated and will be removed from pandas in a future version. Use pandas.concat instead.\n",
      "  df = df.append(base_component_df, ignore_index=True)\n",
      "<ipython-input-772-8cf5b077493c>:21: FutureWarning: The frame.append method is deprecated and will be removed from pandas in a future version. Use pandas.concat instead.\n",
      "  df = df.append(base_component_df, ignore_index=True)\n",
      "<ipython-input-772-8cf5b077493c>:21: FutureWarning: The frame.append method is deprecated and will be removed from pandas in a future version. Use pandas.concat instead.\n",
      "  df = df.append(base_component_df, ignore_index=True)\n",
      "<ipython-input-772-8cf5b077493c>:21: FutureWarning: The frame.append method is deprecated and will be removed from pandas in a future version. Use pandas.concat instead.\n",
      "  df = df.append(base_component_df, ignore_index=True)\n"
     ]
    }
   ],
   "source": [
    "base_component_df = create_base_component_df(jsons)"
   ]
  },
  {
   "cell_type": "code",
   "execution_count": 774,
   "metadata": {},
   "outputs": [
    {
     "data": {
      "text/html": [
       "<div>\n",
       "<style scoped>\n",
       "    .dataframe tbody tr th:only-of-type {\n",
       "        vertical-align: middle;\n",
       "    }\n",
       "\n",
       "    .dataframe tbody tr th {\n",
       "        vertical-align: top;\n",
       "    }\n",
       "\n",
       "    .dataframe thead th {\n",
       "        text-align: right;\n",
       "    }\n",
       "</style>\n",
       "<table border=\"1\" class=\"dataframe\">\n",
       "  <thead>\n",
       "    <tr style=\"text-align: right;\">\n",
       "      <th></th>\n",
       "      <th>metric</th>\n",
       "      <th>value</th>\n",
       "      <th>bestValue</th>\n",
       "      <th>filename</th>\n",
       "      <th>repository</th>\n",
       "      <th>version</th>\n",
       "    </tr>\n",
       "  </thead>\n",
       "  <tbody>\n",
       "    <tr>\n",
       "      <th>47</th>\n",
       "      <td>duplicated_lines_density</td>\n",
       "      <td>0.0</td>\n",
       "      <td>True</td>\n",
       "      <td>fga-eps-mds-2022-1-PUMA-AlocateService-08-01-2...</td>\n",
       "      <td>AlocateService</td>\n",
       "      <td>3.1.1</td>\n",
       "    </tr>\n",
       "    <tr>\n",
       "      <th>48</th>\n",
       "      <td>functions</td>\n",
       "      <td>5</td>\n",
       "      <td>NaN</td>\n",
       "      <td>fga-eps-mds-2022-1-PUMA-AlocateService-08-01-2...</td>\n",
       "      <td>AlocateService</td>\n",
       "      <td>3.1.1</td>\n",
       "    </tr>\n",
       "    <tr>\n",
       "      <th>49</th>\n",
       "      <td>security_rating</td>\n",
       "      <td>1.0</td>\n",
       "      <td>True</td>\n",
       "      <td>fga-eps-mds-2022-1-PUMA-AlocateService-08-01-2...</td>\n",
       "      <td>AlocateService</td>\n",
       "      <td>3.1.1</td>\n",
       "    </tr>\n",
       "    <tr>\n",
       "      <th>50</th>\n",
       "      <td>files</td>\n",
       "      <td>5</td>\n",
       "      <td>NaN</td>\n",
       "      <td>fga-eps-mds-2022-1-PUMA-AlocateService-08-01-2...</td>\n",
       "      <td>AlocateService</td>\n",
       "      <td>3.1.1</td>\n",
       "    </tr>\n",
       "    <tr>\n",
       "      <th>51</th>\n",
       "      <td>complexity</td>\n",
       "      <td>12</td>\n",
       "      <td>NaN</td>\n",
       "      <td>fga-eps-mds-2022-1-PUMA-AlocateService-08-01-2...</td>\n",
       "      <td>AlocateService</td>\n",
       "      <td>3.1.1</td>\n",
       "    </tr>\n",
       "    <tr>\n",
       "      <th>52</th>\n",
       "      <td>ncloc</td>\n",
       "      <td>287</td>\n",
       "      <td>NaN</td>\n",
       "      <td>fga-eps-mds-2022-1-PUMA-AlocateService-08-01-2...</td>\n",
       "      <td>AlocateService</td>\n",
       "      <td>3.1.1</td>\n",
       "    </tr>\n",
       "    <tr>\n",
       "      <th>53</th>\n",
       "      <td>comment_lines_density</td>\n",
       "      <td>0.0</td>\n",
       "      <td>False</td>\n",
       "      <td>fga-eps-mds-2022-1-PUMA-AlocateService-08-01-2...</td>\n",
       "      <td>AlocateService</td>\n",
       "      <td>3.1.1</td>\n",
       "    </tr>\n",
       "    <tr>\n",
       "      <th>84</th>\n",
       "      <td>duplicated_lines_density</td>\n",
       "      <td>0.0</td>\n",
       "      <td>True</td>\n",
       "      <td>fga-eps-mds-2022-1-PUMA-AlocateService-09-07-2...</td>\n",
       "      <td>AlocateService</td>\n",
       "      <td>3.1.1</td>\n",
       "    </tr>\n",
       "    <tr>\n",
       "      <th>85</th>\n",
       "      <td>functions</td>\n",
       "      <td>5</td>\n",
       "      <td>NaN</td>\n",
       "      <td>fga-eps-mds-2022-1-PUMA-AlocateService-09-07-2...</td>\n",
       "      <td>AlocateService</td>\n",
       "      <td>3.1.1</td>\n",
       "    </tr>\n",
       "    <tr>\n",
       "      <th>86</th>\n",
       "      <td>security_rating</td>\n",
       "      <td>1.0</td>\n",
       "      <td>True</td>\n",
       "      <td>fga-eps-mds-2022-1-PUMA-AlocateService-09-07-2...</td>\n",
       "      <td>AlocateService</td>\n",
       "      <td>3.1.1</td>\n",
       "    </tr>\n",
       "  </tbody>\n",
       "</table>\n",
       "</div>"
      ],
      "text/plain": [
       "                      metric value bestValue  \\\n",
       "47  duplicated_lines_density   0.0      True   \n",
       "48                 functions     5       NaN   \n",
       "49           security_rating   1.0      True   \n",
       "50                     files     5       NaN   \n",
       "51                complexity    12       NaN   \n",
       "52                     ncloc   287       NaN   \n",
       "53     comment_lines_density   0.0     False   \n",
       "84  duplicated_lines_density   0.0      True   \n",
       "85                 functions     5       NaN   \n",
       "86           security_rating   1.0      True   \n",
       "\n",
       "                                             filename      repository version  \n",
       "47  fga-eps-mds-2022-1-PUMA-AlocateService-08-01-2...  AlocateService   3.1.1  \n",
       "48  fga-eps-mds-2022-1-PUMA-AlocateService-08-01-2...  AlocateService   3.1.1  \n",
       "49  fga-eps-mds-2022-1-PUMA-AlocateService-08-01-2...  AlocateService   3.1.1  \n",
       "50  fga-eps-mds-2022-1-PUMA-AlocateService-08-01-2...  AlocateService   3.1.1  \n",
       "51  fga-eps-mds-2022-1-PUMA-AlocateService-08-01-2...  AlocateService   3.1.1  \n",
       "52  fga-eps-mds-2022-1-PUMA-AlocateService-08-01-2...  AlocateService   3.1.1  \n",
       "53  fga-eps-mds-2022-1-PUMA-AlocateService-08-01-2...  AlocateService   3.1.1  \n",
       "84  fga-eps-mds-2022-1-PUMA-AlocateService-09-07-2...  AlocateService   3.1.1  \n",
       "85  fga-eps-mds-2022-1-PUMA-AlocateService-09-07-2...  AlocateService   3.1.1  \n",
       "86  fga-eps-mds-2022-1-PUMA-AlocateService-09-07-2...  AlocateService   3.1.1  "
      ]
     },
     "execution_count": 774,
     "metadata": {},
     "output_type": "execute_result"
    }
   ],
   "source": [
    "base_component_df.head(10)"
   ]
  },
  {
   "cell_type": "markdown",
   "metadata": {},
   "source": [
    "#### Create dataframe per file"
   ]
  },
  {
   "cell_type": "code",
   "execution_count": 775,
   "metadata": {},
   "outputs": [
    {
     "data": {
      "text/plain": [
       "12"
      ]
     },
     "execution_count": 775,
     "metadata": {},
     "output_type": "execute_result"
    }
   ],
   "source": [
    "metric_list = ['files',\n",
    "               'functions',\n",
    "               'complexity',\n",
    "               'comment_lines_density',\n",
    "               'duplicated_lines_density',\n",
    "               'coverage',\n",
    "               'ncloc',\n",
    "               'tests',\n",
    "               'test_errors',\n",
    "               'test_failures',\n",
    "               'test_execution_time',\n",
    "               'security_rating']\n",
    "\n",
    "len(metric_list)"
   ]
  },
  {
   "cell_type": "code",
   "execution_count": 776,
   "metadata": {
    "collapsed": false,
    "pycharm": {
     "name": "#%%\n"
    }
   },
   "outputs": [],
   "source": [
    "def get_files_df(df):\n",
    "    \n",
    "    files = df[df['qualifier'] == 'FIL']\n",
    "    \n",
    "    files = files.dropna(subset=['functions', 'complexity','comment_lines_density', 'duplicated_lines_density', 'coverage' ])\n",
    "    \n",
    "    return files"
   ]
  },
  {
   "cell_type": "code",
   "execution_count": 777,
   "metadata": {
    "collapsed": false,
    "pycharm": {
     "name": "#%%\n"
    }
   },
   "outputs": [],
   "source": [
    "from cmath import nan\n",
    "\n",
    "\n",
    "def get_dir_df(df):\n",
    "    dirs = df[df[\"qualifier\"] == \"DIR\"]     \n",
    "\n",
    "    newdf = pd.to_numeric(dirs[\"tests\"])\n",
    "    \n",
    "    max_value_index = newdf.idxmax()      \n",
    "    \n",
    "    return dirs.loc[max_value_index]"
   ]
  },
  {
   "cell_type": "code",
   "execution_count": 778,
   "metadata": {},
   "outputs": [],
   "source": [
    "def get_uts_df(df):\n",
    "    dirs = df[df['qualifier'] == 'UTS']     \n",
    "\n",
    "    dirs = dirs.dropna(subset=['test_execution_time'])          \n",
    "    \n",
    "    return dirs"
   ]
  },
  {
   "cell_type": "code",
   "execution_count": 779,
   "metadata": {},
   "outputs": [],
   "source": [
    "def metric_per_file(json):\n",
    "    \n",
    "    file_json = []\n",
    "    \n",
    "    for component in json['components']:\n",
    "        \n",
    "        ncloc_value = 0;\n",
    "        \n",
    "        for valores in component['measures']:\n",
    "\n",
    "            if valores['metric'] == 'ncloc':\n",
    "                ncloc_value = float(valores['value'])\n",
    "                break\n",
    "    \n",
    "        if (component['qualifier'] == 'FIL') & (ncloc_value > 0) or (component['qualifier'] == 'DIR') or (component['qualifier'] == 'UTS'):                       \n",
    "            file_json.append(component)\n",
    "\n",
    "    return file_json\n",
    "\n",
    "def generate_file_dataframe_per_release(metric_list, json, language_extension):\n",
    "    \n",
    "    df_columns = metric_list\n",
    "    df = pd.DataFrame(columns = df_columns)\n",
    "    df2 = pd.DataFrame(columns = df_columns)\n",
    "    df3 = pd.DataFrame(columns = df_columns)\n",
    "    \n",
    "    \n",
    "    for file in json:\n",
    "        try:\n",
    "                if file['qualifier'] == 'FIL' and file['language'] == language_extension:\n",
    "                    for measure in file['measures']:\n",
    "                        df.at[file['path'], measure['metric']] = measure['value']\n",
    "\n",
    "                    df['qualifier'] = file['qualifier'] \n",
    "\n",
    "                elif file['qualifier'] == 'UTS':  \n",
    "                    for measure in file['measures']:\n",
    "                        df3.at[file['path'], measure['metric']] = measure['value']\n",
    "\n",
    "                    df3['qualifier'] = file['qualifier'] \n",
    "                elif file['qualifier'] == 'DIR':\n",
    "                    for measure in file['measures']:\n",
    "                        df2.at[file['path'], measure['metric']] = measure['value']\n",
    "                    df2['qualifier'] = file['qualifier'] \n",
    "        except:\n",
    "            pass\n",
    "\n",
    "    df.reset_index(inplace = True)\n",
    "    df2.reset_index(inplace = True)\n",
    "    df3.reset_index(inplace = True)\n",
    "    df = df.rename({'index': 'path'}, axis=1).drop(['files'], axis=1)\n",
    "    df2 = df2.rename({'index': 'path'}, axis=1).drop(['files'], axis=1)\n",
    "    df3 = df3.rename({'index': 'path'}, axis=1).drop(['files'], axis=1)\n",
    "\n",
    "    dfFinal = pd.concat([df,df2,df3], axis=0)\n",
    "\n",
    "    return dfFinal\n",
    "\n",
    "def create_file_df(json_list):\n",
    "    \n",
    "    df = pd.DataFrame()\n",
    "    dfDir = pd.DataFrame()\n",
    "\n",
    "    for i in json_list:\n",
    "\n",
    "        file_component = read_json(i)\n",
    "        \n",
    "        file_component_data = metric_per_file(file_component)\n",
    "                        \n",
    "        file_name = os.path.basename(i)\n",
    "\n",
    "        file_repository = re.split(r'-(\\d+-\\d+-\\d+-\\d+-\\d+-\\d+)-v(.*?).json', file_name)[0]\n",
    "\n",
    "        file_language = repos_language[f\"{file_repository}\"]\n",
    "\n",
    "        file_component_df = generate_file_dataframe_per_release(metric_list, file_component_data, language_extension = file_language)\n",
    "        \n",
    "        file_component_df['filename'] = os.path.basename(i)\n",
    "\n",
    "        df = df.append(file_component_df, ignore_index=True)\n",
    "        \n",
    "    # Replace the UnB semester with yours.\n",
    "    \n",
    "    aux_df = df['filename'].str.split(r\"-(\\d+-\\d+-\\d+-\\d+-\\d+-\\d+)-v(.*?).json\", expand=True)\n",
    "\n",
    "    df['repository'] = aux_df[0]\n",
    "\n",
    "    df['version'] = aux_df[2]\n",
    "\n",
    "    df = df.sort_values(by=['version'])\n",
    "    \n",
    "    return df"
   ]
  },
  {
   "cell_type": "code",
   "execution_count": 780,
   "metadata": {},
   "outputs": [
    {
     "name": "stderr",
     "output_type": "stream",
     "text": [
      "<ipython-input-779-ce0dcd135ac6>:80: FutureWarning: The frame.append method is deprecated and will be removed from pandas in a future version. Use pandas.concat instead.\n",
      "  df = df.append(file_component_df, ignore_index=True)\n",
      "<ipython-input-779-ce0dcd135ac6>:80: FutureWarning: The frame.append method is deprecated and will be removed from pandas in a future version. Use pandas.concat instead.\n",
      "  df = df.append(file_component_df, ignore_index=True)\n",
      "<ipython-input-779-ce0dcd135ac6>:80: FutureWarning: The frame.append method is deprecated and will be removed from pandas in a future version. Use pandas.concat instead.\n",
      "  df = df.append(file_component_df, ignore_index=True)\n",
      "<ipython-input-779-ce0dcd135ac6>:80: FutureWarning: The frame.append method is deprecated and will be removed from pandas in a future version. Use pandas.concat instead.\n",
      "  df = df.append(file_component_df, ignore_index=True)\n",
      "<ipython-input-779-ce0dcd135ac6>:80: FutureWarning: The frame.append method is deprecated and will be removed from pandas in a future version. Use pandas.concat instead.\n",
      "  df = df.append(file_component_df, ignore_index=True)\n",
      "<ipython-input-779-ce0dcd135ac6>:80: FutureWarning: The frame.append method is deprecated and will be removed from pandas in a future version. Use pandas.concat instead.\n",
      "  df = df.append(file_component_df, ignore_index=True)\n",
      "<ipython-input-779-ce0dcd135ac6>:80: FutureWarning: The frame.append method is deprecated and will be removed from pandas in a future version. Use pandas.concat instead.\n",
      "  df = df.append(file_component_df, ignore_index=True)\n",
      "<ipython-input-779-ce0dcd135ac6>:80: FutureWarning: The frame.append method is deprecated and will be removed from pandas in a future version. Use pandas.concat instead.\n",
      "  df = df.append(file_component_df, ignore_index=True)\n",
      "<ipython-input-779-ce0dcd135ac6>:80: FutureWarning: The frame.append method is deprecated and will be removed from pandas in a future version. Use pandas.concat instead.\n",
      "  df = df.append(file_component_df, ignore_index=True)\n",
      "<ipython-input-779-ce0dcd135ac6>:80: FutureWarning: The frame.append method is deprecated and will be removed from pandas in a future version. Use pandas.concat instead.\n",
      "  df = df.append(file_component_df, ignore_index=True)\n",
      "<ipython-input-779-ce0dcd135ac6>:80: FutureWarning: The frame.append method is deprecated and will be removed from pandas in a future version. Use pandas.concat instead.\n",
      "  df = df.append(file_component_df, ignore_index=True)\n",
      "<ipython-input-779-ce0dcd135ac6>:80: FutureWarning: The frame.append method is deprecated and will be removed from pandas in a future version. Use pandas.concat instead.\n",
      "  df = df.append(file_component_df, ignore_index=True)\n",
      "<ipython-input-779-ce0dcd135ac6>:80: FutureWarning: The frame.append method is deprecated and will be removed from pandas in a future version. Use pandas.concat instead.\n",
      "  df = df.append(file_component_df, ignore_index=True)\n",
      "<ipython-input-779-ce0dcd135ac6>:80: FutureWarning: The frame.append method is deprecated and will be removed from pandas in a future version. Use pandas.concat instead.\n",
      "  df = df.append(file_component_df, ignore_index=True)\n",
      "<ipython-input-779-ce0dcd135ac6>:80: FutureWarning: The frame.append method is deprecated and will be removed from pandas in a future version. Use pandas.concat instead.\n",
      "  df = df.append(file_component_df, ignore_index=True)\n",
      "<ipython-input-779-ce0dcd135ac6>:80: FutureWarning: The frame.append method is deprecated and will be removed from pandas in a future version. Use pandas.concat instead.\n",
      "  df = df.append(file_component_df, ignore_index=True)\n",
      "<ipython-input-779-ce0dcd135ac6>:80: FutureWarning: The frame.append method is deprecated and will be removed from pandas in a future version. Use pandas.concat instead.\n",
      "  df = df.append(file_component_df, ignore_index=True)\n",
      "<ipython-input-779-ce0dcd135ac6>:80: FutureWarning: The frame.append method is deprecated and will be removed from pandas in a future version. Use pandas.concat instead.\n",
      "  df = df.append(file_component_df, ignore_index=True)\n",
      "<ipython-input-779-ce0dcd135ac6>:80: FutureWarning: The frame.append method is deprecated and will be removed from pandas in a future version. Use pandas.concat instead.\n",
      "  df = df.append(file_component_df, ignore_index=True)\n",
      "<ipython-input-779-ce0dcd135ac6>:80: FutureWarning: The frame.append method is deprecated and will be removed from pandas in a future version. Use pandas.concat instead.\n",
      "  df = df.append(file_component_df, ignore_index=True)\n",
      "<ipython-input-779-ce0dcd135ac6>:80: FutureWarning: The frame.append method is deprecated and will be removed from pandas in a future version. Use pandas.concat instead.\n",
      "  df = df.append(file_component_df, ignore_index=True)\n",
      "<ipython-input-779-ce0dcd135ac6>:80: FutureWarning: The frame.append method is deprecated and will be removed from pandas in a future version. Use pandas.concat instead.\n",
      "  df = df.append(file_component_df, ignore_index=True)\n",
      "<ipython-input-779-ce0dcd135ac6>:80: FutureWarning: The frame.append method is deprecated and will be removed from pandas in a future version. Use pandas.concat instead.\n",
      "  df = df.append(file_component_df, ignore_index=True)\n",
      "<ipython-input-779-ce0dcd135ac6>:80: FutureWarning: The frame.append method is deprecated and will be removed from pandas in a future version. Use pandas.concat instead.\n",
      "  df = df.append(file_component_df, ignore_index=True)\n",
      "<ipython-input-779-ce0dcd135ac6>:80: FutureWarning: The frame.append method is deprecated and will be removed from pandas in a future version. Use pandas.concat instead.\n",
      "  df = df.append(file_component_df, ignore_index=True)\n",
      "<ipython-input-779-ce0dcd135ac6>:80: FutureWarning: The frame.append method is deprecated and will be removed from pandas in a future version. Use pandas.concat instead.\n",
      "  df = df.append(file_component_df, ignore_index=True)\n",
      "<ipython-input-779-ce0dcd135ac6>:80: FutureWarning: The frame.append method is deprecated and will be removed from pandas in a future version. Use pandas.concat instead.\n",
      "  df = df.append(file_component_df, ignore_index=True)\n",
      "<ipython-input-779-ce0dcd135ac6>:80: FutureWarning: The frame.append method is deprecated and will be removed from pandas in a future version. Use pandas.concat instead.\n",
      "  df = df.append(file_component_df, ignore_index=True)\n",
      "<ipython-input-779-ce0dcd135ac6>:80: FutureWarning: The frame.append method is deprecated and will be removed from pandas in a future version. Use pandas.concat instead.\n",
      "  df = df.append(file_component_df, ignore_index=True)\n",
      "<ipython-input-779-ce0dcd135ac6>:80: FutureWarning: The frame.append method is deprecated and will be removed from pandas in a future version. Use pandas.concat instead.\n",
      "  df = df.append(file_component_df, ignore_index=True)\n",
      "<ipython-input-779-ce0dcd135ac6>:80: FutureWarning: The frame.append method is deprecated and will be removed from pandas in a future version. Use pandas.concat instead.\n",
      "  df = df.append(file_component_df, ignore_index=True)\n",
      "<ipython-input-779-ce0dcd135ac6>:80: FutureWarning: The frame.append method is deprecated and will be removed from pandas in a future version. Use pandas.concat instead.\n",
      "  df = df.append(file_component_df, ignore_index=True)\n"
     ]
    },
    {
     "data": {
      "text/plain": [
       "array(['fga-eps-mds-2022-1-PUMA-UserService',\n",
       "       'fga-eps-mds-2022-1-PUMA-AlocateService',\n",
       "       'fga-eps-mds-2022-1-PUMA-Frontend',\n",
       "       'fga-eps-mds-2022-1-PUMA-ApiGateway',\n",
       "       'fga-eps-mds-2022-1-PUMA-NotifyService',\n",
       "       'fga-eps-mds-2022-1-PUMA-ProjectService'], dtype=object)"
      ]
     },
     "execution_count": 780,
     "metadata": {},
     "output_type": "execute_result"
    }
   ],
   "source": [
    "file_component_df = create_file_df(jsons)\n",
    "file_component_df.repository.unique()"
   ]
  },
  {
   "cell_type": "markdown",
   "metadata": {
    "collapsed": false
   },
   "source": [
    "#### Removing NaN"
   ]
  },
  {
   "cell_type": "code",
   "execution_count": 781,
   "metadata": {
    "collapsed": false,
    "pycharm": {
     "name": "#%%\n"
    }
   },
   "outputs": [],
   "source": [
    "file_component_df = file_component_df.dropna(subset=['functions', 'complexity','comment_lines_density', 'duplicated_lines_density', 'coverage' ])"
   ]
  },
  {
   "cell_type": "markdown",
   "metadata": {},
   "source": [
    "        #### Create dataframe per repository"
   ]
  },
  {
   "cell_type": "code",
   "execution_count": 782,
   "metadata": {},
   "outputs": [],
   "source": [
    "# Example. You must replace repo1, repo1,..., for your repository's names\n",
    "\n",
    "repo1_df = file_component_df[file_component_df['repository'] == 'fga-eps-mds-2022-1-PUMA-Frontend']\n",
    "repo2_df = file_component_df[file_component_df['repository'] == 'fga-eps-mds-2022-1-PUMA-AlocateService']\n",
    "repo3_df = file_component_df[file_component_df['repository'] == 'fga-eps-mds-2022-1-PUMA-ApiGateway']\n",
    "repo4_df = file_component_df[file_component_df['repository'] == 'fga-eps-mds-2022-1-PUMA-NotifyService']\n",
    "repo5_df = file_component_df[file_component_df['repository'] == 'fga-eps-mds-2022-1-PUMA-ProjectService']\n",
    "repo6_df = file_component_df[file_component_df['repository'] == 'fga-eps-mds-2022-1-PUMA-UserService']"
   ]
  },
  {
   "cell_type": "code",
   "execution_count": 783,
   "metadata": {
    "collapsed": false,
    "pycharm": {
     "name": "#%%\n"
    }
   },
   "outputs": [],
   "source": [
    "def _ncloc(df):\n",
    "    ncloc = 0\n",
    "    for each in df['ncloc']:\n",
    "        n = 0\n",
    "        # try to cast the current ncloc value to int, if the value is NaN/Null, consider it as zero.\n",
    "        try:\n",
    "            n = int(each)\n",
    "        except ValueError:\n",
    "            n = 0\n",
    "        ncloc += n\n",
    "\n",
    "    return ncloc"
   ]
  },
  {
   "cell_type": "markdown",
   "metadata": {},
   "source": [
    "### Measure calculations according Q-Rapids quality model"
   ]
  },
  {
   "cell_type": "markdown",
   "metadata": {},
   "source": [
    "# Quality Aspect - Maintainability\n",
    "## Factor - Code Quality"
   ]
  },
  {
   "cell_type": "markdown",
   "metadata": {},
   "source": [
    "##### COMPLEXITY"
   ]
  },
  {
   "cell_type": "code",
   "execution_count": 784,
   "metadata": {},
   "outputs": [],
   "source": [
    "def m1(df):\n",
    "\n",
    "    files_df = get_files_df(df)\n",
    "    \n",
    "    density_non_complex_files = len(files_df[(files_df['complexity'].astype(float) /\n",
    "                                              files_df['functions'].astype(float)) < 10]) / len(files_df)\n",
    "    \n",
    "    return density_non_complex_files"
   ]
  },
  {
   "cell_type": "markdown",
   "metadata": {},
   "source": [
    "##### COMMENTS"
   ]
  },
  {
   "cell_type": "code",
   "execution_count": 785,
   "metadata": {},
   "outputs": [],
   "source": [
    "def m2(df):\n",
    "\n",
    "    files_df = get_files_df(df)\n",
    "    \n",
    "    density_comment_files = len(files_df[(files_df['comment_lines_density'].astype(float) > 10) &\n",
    "                                         (files_df['comment_lines_density'].astype(float) < 30)]) / len(files_df)\n",
    "    \n",
    "    return density_comment_files"
   ]
  },
  {
   "cell_type": "markdown",
   "metadata": {},
   "source": [
    "##### DUPLICATIONS"
   ]
  },
  {
   "cell_type": "code",
   "execution_count": 786,
   "metadata": {},
   "outputs": [],
   "source": [
    "def m3(df):\n",
    "\n",
    "    files_df = get_files_df(df)\n",
    "    \n",
    "    duplication = len(files_df[(files_df['duplicated_lines_density'].astype(float) < 5)])/len(files_df)\n",
    "    \n",
    "    return duplication"
   ]
  },
  {
   "cell_type": "markdown",
   "metadata": {
    "collapsed": false
   },
   "source": [
    "# Quality Aspect - Reliability\n",
    "## Factor - Testing Status"
   ]
  },
  {
   "cell_type": "markdown",
   "metadata": {
    "collapsed": false
   },
   "source": [
    "##### Passed tests"
   ]
  },
  {
   "cell_type": "code",
   "execution_count": 787,
   "metadata": {
    "collapsed": false,
    "pycharm": {
     "name": "#%%\n"
    }
   },
   "outputs": [],
   "source": [
    "def m4(df):\n",
    "\n",
    "    dir_df = get_dir_df(df)\n",
    "    print('1')\n",
    "\n",
    "    passed_tests = (float(dir_df['tests']) - (float(dir_df['test_errors']) + float(dir_df['test_failures']))) /\\\n",
    "                   float(dir_df['tests'])\n",
    "    print('2')\n",
    "    print('passed_tests')\n",
    "\n",
    "    return passed_tests"
   ]
  },
  {
   "cell_type": "markdown",
   "metadata": {
    "collapsed": false
   },
   "source": [
    "##### Fast test builds"
   ]
  },
  {
   "cell_type": "code",
   "execution_count": 788,
   "metadata": {
    "collapsed": false,
    "pycharm": {
     "name": "#%%\n"
    }
   },
   "outputs": [],
   "source": [
    "def m5(df):\n",
    "\n",
    "    dir_df = get_uts_df(df)\n",
    "    \n",
    "    density_fast_test_builds = len(dir_df[(dir_df['test_execution_time'].astype(float)) < 300000]) /\\\n",
    "                               len(dir_df['test_execution_time'].astype(float))\n",
    "    return density_fast_test_builds"
   ]
  },
  {
   "cell_type": "markdown",
   "metadata": {
    "collapsed": false
   },
   "source": [
    "##### Test coverage"
   ]
  },
  {
   "cell_type": "code",
   "execution_count": 789,
   "metadata": {
    "collapsed": false,
    "pycharm": {
     "name": "#%%\n"
    }
   },
   "outputs": [],
   "source": [
    "def m6(df):\n",
    "\n",
    "    files_df = get_files_df(df)\n",
    "\n",
    "    density_test_coverage = len(files_df[(files_df['coverage'].astype(float) > 60)]) / len(files_df)\n",
    "\n",
    "    return density_test_coverage"
   ]
  },
  {
   "cell_type": "markdown",
   "metadata": {},
   "source": [
    "### Calculate m1, m2, m3, m4, m5 and m6 for each repository"
   ]
  },
  {
   "cell_type": "code",
   "execution_count": 790,
   "metadata": {},
   "outputs": [],
   "source": [
    "def create_metrics_df(df):\n",
    "    \n",
    "    version_vec = df['version'].unique()\n",
    "    \n",
    "    m1_list = []\n",
    "    m2_list = []\n",
    "    m3_list = []\n",
    "    m4_list = []\n",
    "    m5_list = []\n",
    "    m6_list = []\n",
    "\n",
    "    ncloc_list = []\n",
    "    repository_list = []\n",
    "    version_list = []\n",
    "    \n",
    "    for version in version_vec:\n",
    "\n",
    "        version_df = df[df['version'] == version]\n",
    "\n",
    "        m1_list.append(m1(version_df))\n",
    "        print('m1_list', m1_list)\n",
    "        m2_list.append(m2(version_df))\n",
    "        print('m2_list', m2_list)\n",
    "        m3_list.append(m3(version_df))\n",
    "        m4_list.append(0)\n",
    "        m5_list.append(0)\n",
    "        m6_list.append(m6(version_df))\n",
    "\n",
    "        ncloc_list.append(_ncloc(version_df))\n",
    "        repository_list.append(version_df['repository'].iloc[0])\n",
    "        version_list.append(version)\n",
    "        \n",
    "    metrics_df = pd.DataFrame({'m1': m1_list,\n",
    "                               'm2': m2_list,\n",
    "                               'm3': m3_list,\n",
    "                               'm4': m4_list,\n",
    "                               'm5': m5_list,\n",
    "                               'm6': m6_list,\n",
    "                               'repository': repository_list, \n",
    "                               'version': version_list,\n",
    "                               'ncloc': ncloc_list})\n",
    "        \n",
    "    return metrics_df"
   ]
  },
  {
   "cell_type": "code",
   "execution_count": 791,
   "metadata": {},
   "outputs": [
    {
     "name": "stdout",
     "output_type": "stream",
     "text": [
      "m1_list [0.8846153846153846]\n",
      "m2_list [0.038461538461538464]\n",
      "m1_list [0.8846153846153846, 0.8846153846153846]\n",
      "m2_list [0.038461538461538464, 0.038461538461538464]\n",
      "m1_list [0.8846153846153846, 0.8846153846153846, 0.9440559440559441]\n",
      "m2_list [0.038461538461538464, 0.038461538461538464, 0.006993006993006993]\n",
      "m1_list [0.8846153846153846, 0.8846153846153846, 0.9440559440559441, 0.9523809523809523]\n",
      "m2_list [0.038461538461538464, 0.038461538461538464, 0.006993006993006993, 0.0]\n"
     ]
    }
   ],
   "source": [
    "repo1 = create_metrics_df(repo1_df)\n",
    "repo2 = create_metrics_df(repo2_df)\n",
    "repo3 = create_metrics_df(repo3_df)\n",
    "repo4 = create_metrics_df(repo4_df)\n",
    "repo5 = create_metrics_df(repo5_df)\n",
    "repo6 = create_metrics_df(repo6_df)"
   ]
  },
  {
   "cell_type": "markdown",
   "metadata": {},
   "source": [
    "### Data visualization\n",
    "\n",
    "- You must do this for each of your repositories"
   ]
  },
  {
   "cell_type": "code",
   "execution_count": 792,
   "metadata": {},
   "outputs": [
    {
     "data": {
      "text/plain": [
       "[<matplotlib.lines.Line2D at 0x7fae45787b20>]"
      ]
     },
     "execution_count": 792,
     "metadata": {},
     "output_type": "execute_result"
    },
    {
     "data": {
      "image/png": "[encoded data removed]",
      "text/plain": [
       "<Figure size 432x288 with 1 Axes>"
      ]
     },
     "metadata": {
      "needs_background": "light"
     },
     "output_type": "display_data"
    }
   ],
   "source": [
    "plt.plot(repo1['m1'], linewidth=3, marker='o', markersize=10)\n",
    "plt.plot(repo1['m2'], linewidth=3, marker='o', markersize=10)\n",
    "plt.plot(repo1['m3'], linewidth=3, marker='o', markersize=10)\n",
    "plt.plot(repo1['m4'], linewidth=3, marker='o', markersize=10)\n",
    "plt.plot(repo1['m5'], linewidth=3, marker='o', markersize=10)\n",
    "plt.plot(repo1['m6'], linewidth=3, marker='o', markersize=10)"
   ]
  },
  {
   "cell_type": "code",
   "execution_count": 793,
   "metadata": {
    "collapsed": false,
    "pycharm": {
     "name": "#%%\n"
    }
   },
   "outputs": [
    {
     "data": {
      "text/plain": [
       "[<matplotlib.lines.Line2D at 0x7fae45811580>]"
      ]
     },
     "execution_count": 793,
     "metadata": {},
     "output_type": "execute_result"
    },
    {
     "data": {
      "image/png": "[encoded data removed]",
      "text/plain": [
       "<Figure size 432x288 with 1 Axes>"
      ]
     },
     "metadata": {
      "needs_background": "light"
     },
     "output_type": "display_data"
    }
   ],
   "source": [
    "\n",
    "plt.plot(repo2['m1'], linewidth=3, marker='o', markersize=10)\n",
    "plt.plot(repo2['m2'], linewidth=3, marker='o', markersize=10)\n",
    "plt.plot(repo2['m3'], linewidth=3, marker='o', markersize=10)\n",
    "plt.plot(repo2['m4'], linewidth=3, marker='o', markersize=10)\n",
    "plt.plot(repo2['m5'], linewidth=3, marker='o', markersize=10)\n",
    "plt.plot(repo2['m6'], linewidth=3, marker='o', markersize=10)"
   ]
  },
  {
   "cell_type": "code",
   "execution_count": 794,
   "metadata": {},
   "outputs": [
    {
     "data": {
      "text/plain": [
       "[<matplotlib.lines.Line2D at 0x7fae4738d790>]"
      ]
     },
     "execution_count": 794,
     "metadata": {},
     "output_type": "execute_result"
    },
    {
     "data": {
      "image/png": "[encoded data removed]",
      "text/plain": [
       "<Figure size 432x288 with 1 Axes>"
      ]
     },
     "metadata": {
      "needs_background": "light"
     },
     "output_type": "display_data"
    }
   ],
   "source": [
    "plt.plot(repo3['m1'], linewidth=3, marker='o', markersize=10)\n",
    "plt.plot(repo3['m2'], linewidth=3, marker='o', markersize=10)\n",
    "plt.plot(repo3['m3'], linewidth=3, marker='o', markersize=10)\n",
    "plt.plot(repo3['m4'], linewidth=3, marker='o', markersize=10)\n",
    "plt.plot(repo3['m5'], linewidth=3, marker='o', markersize=10)\n",
    "plt.plot(repo3['m6'], linewidth=3, marker='o', markersize=10)"
   ]
  },
  {
   "cell_type": "code",
   "execution_count": 795,
   "metadata": {},
   "outputs": [
    {
     "data": {
      "text/plain": [
       "[<matplotlib.lines.Line2D at 0x7fae457b5910>]"
      ]
     },
     "execution_count": 795,
     "metadata": {},
     "output_type": "execute_result"
    },
    {
     "data": {
      "image/png": "[encoded data removed]",
      "text/plain": [
       "<Figure size 432x288 with 1 Axes>"
      ]
     },
     "metadata": {
      "needs_background": "light"
     },
     "output_type": "display_data"
    }
   ],
   "source": [
    "plt.plot(repo4['m1'], linewidth=3, marker='o', markersize=10)\n",
    "plt.plot(repo4['m2'], linewidth=3, marker='o', markersize=10)\n",
    "plt.plot(repo4['m3'], linewidth=3, marker='o', markersize=10)\n",
    "plt.plot(repo4['m4'], linewidth=3, marker='o', markersize=10)\n",
    "plt.plot(repo4['m5'], linewidth=3, marker='o', markersize=10)\n",
    "plt.plot(repo4['m6'], linewidth=3, marker='o', markersize=10)"
   ]
  },
  {
   "cell_type": "code",
   "execution_count": 796,
   "metadata": {},
   "outputs": [
    {
     "data": {
      "text/plain": [
       "[<matplotlib.lines.Line2D at 0x7fae45362310>]"
      ]
     },
     "execution_count": 796,
     "metadata": {},
     "output_type": "execute_result"
    },
    {
     "data": {
      "image/png": "[encoded data removed]",
      "text/plain": [
       "<Figure size 432x288 with 1 Axes>"
      ]
     },
     "metadata": {
      "needs_background": "light"
     },
     "output_type": "display_data"
    }
   ],
   "source": [
    "plt.plot(repo5['m1'], linewidth=3, marker='o', markersize=10)\n",
    "plt.plot(repo5['m2'], linewidth=3, marker='o', markersize=10)\n",
    "plt.plot(repo5['m3'], linewidth=3, marker='o', markersize=10)\n",
    "plt.plot(repo5['m4'], linewidth=3, marker='o', markersize=10)\n",
    "plt.plot(repo5['m5'], linewidth=3, marker='o', markersize=10)\n",
    "plt.plot(repo5['m6'], linewidth=3, marker='o', markersize=10)"
   ]
  },
  {
   "cell_type": "code",
   "execution_count": 797,
   "metadata": {},
   "outputs": [
    {
     "data": {
      "text/plain": [
       "[<matplotlib.lines.Line2D at 0x7fae452cb4f0>]"
      ]
     },
     "execution_count": 797,
     "metadata": {},
     "output_type": "execute_result"
    },
    {
     "data": {
      "image/png": "[encoded data removed]",
      "text/plain": [
       "<Figure size 432x288 with 1 Axes>"
      ]
     },
     "metadata": {
      "needs_background": "light"
     },
     "output_type": "display_data"
    }
   ],
   "source": [
    "plt.plot(repo6['m1'], linewidth=3, marker='o', markersize=10)\n",
    "plt.plot(repo6['m2'], linewidth=3, marker='o', markersize=10)\n",
    "plt.plot(repo6['m3'], linewidth=3, marker='o', markersize=10)\n",
    "plt.plot(repo6['m4'], linewidth=3, marker='o', markersize=10)\n",
    "plt.plot(repo6['m5'], linewidth=3, marker='o', markersize=10)\n",
    "plt.plot(repo6['m6'], linewidth=3, marker='o', markersize=10)"
   ]
  },
  {
   "cell_type": "markdown",
   "metadata": {},
   "source": [
    "### Quality factor and aspect aggregation\n",
    "\n",
    "- You must do this for each of your repositories"
   ]
  },
  {
   "cell_type": "code",
   "execution_count": 817,
   "metadata": {},
   "outputs": [],
   "source": [
    "psc1 = 1\n",
    "psc2 = 1\n",
    "pc1 = 0.5\n",
    "pc2 = 0.5\n",
    "pm1 = 0.33\n",
    "pm2 = 0.33\n",
    "pm3 = 0.33\n",
    "pm4 = 0.25\n",
    "pm5 = 0.25\n",
    "pm6 = 0.5\n",
    "\n",
    "repo1['code_quality'] = ((repo1['m1']*pm1) + (repo1['m2']*pm2) + (repo1['m3']*pm3)) * psc1\n",
    "repo2['code_quality'] = ((repo2['m1']*pm1) + (repo2['m2']*pm2) + (repo2['m3']*pm3)) * psc1\n",
    "repo3['code_quality'] = ((repo3['m1']*pm1) + (repo3['m2']*pm2) + (repo3['m3']*pm3)) * psc1\n",
    "repo4['code_quality'] = ((repo4['m1']*pm1) + (repo4['m2']*pm2) + (repo4['m3']*pm3)) * psc1\n",
    "repo5['code_quality'] = ((repo5['m1']*pm1) + (repo5['m2']*pm2) + (repo5['m3']*pm3)) * psc1\n",
    "repo6['code_quality'] = ((repo6['m1']*pm1) + (repo6['m2']*pm2) + (repo6['m3']*pm3)) * psc1\n",
    "\n",
    "repo1['testing_status'] = ((repo1['m4']*pm4) + (repo1['m5']*pm5) + (repo1['m6']*pm6)) * psc2\n",
    "repo2['testing_status'] = ((repo2['m4']*pm4) + (repo2['m5']*pm5) + (repo2['m6']*pm6)) * psc2\n",
    "repo3['testing_status'] = ((repo3['m4']*pm4) + (repo3['m5']*pm5) + (repo3['m6']*pm6)) * psc2\n",
    "repo4['testing_status'] = ((repo4['m4']*pm4) + (repo4['m5']*pm5) + (repo4['m6']*pm6)) * psc2\n",
    "repo5['testing_status'] = ((repo5['m4']*pm4) + (repo5['m5']*pm5) + (repo5['m6']*pm6)) * psc2\n",
    "repo6['testing_status'] = ((repo6['m4']*pm4) + (repo6['m5']*pm5) + (repo6['m6']*pm6)) * psc2"
   ]
  },
  {
   "cell_type": "code",
   "execution_count": 818,
   "metadata": {},
   "outputs": [
    {
     "data": {
      "text/plain": [
       "[<matplotlib.lines.Line2D at 0x7fae44d18b20>]"
      ]
     },
     "execution_count": 818,
     "metadata": {},
     "output_type": "execute_result"
    },
    {
     "data": {
      "image/png": "[encoded data removed]",
      "text/plain": [
       "<Figure size 432x288 with 1 Axes>"
      ]
     },
     "metadata": {
      "needs_background": "light"
     },
     "output_type": "display_data"
    }
   ],
   "source": [
    "plt.plot(repo1['code_quality'], linewidth=3, marker='o', markersize=5)\n",
    "plt.plot(repo2['code_quality'], linewidth=3, marker='o', markersize=5)\n",
    "plt.plot(repo3['code_quality'], linewidth=3, marker='o', markersize=5)\n",
    "plt.plot(repo4['code_quality'], linewidth=3, marker='o', markersize=5)\n",
    "plt.plot(repo5['code_quality'], linewidth=3, marker='o', markersize=5)\n",
    "plt.plot(repo6['code_quality'], linewidth=3, marker='o', markersize=5)"
   ]
  },
  {
   "cell_type": "code",
   "execution_count": 819,
   "metadata": {
    "collapsed": false,
    "pycharm": {
     "name": "#%%\n"
    }
   },
   "outputs": [
    {
     "data": {
      "text/plain": [
       "[<matplotlib.lines.Line2D at 0x7fae45229790>]"
      ]
     },
     "execution_count": 819,
     "metadata": {},
     "output_type": "execute_result"
    },
    {
     "data": {
      "image/png": "[encoded data removed]",
      "text/plain": [
       "<Figure size 432x288 with 1 Axes>"
      ]
     },
     "metadata": {
      "needs_background": "light"
     },
     "output_type": "display_data"
    }
   ],
   "source": [
    "\n",
    "plt.plot(repo1['testing_status'], linewidth=3, marker='o', markersize=5)\n",
    "plt.plot(repo2['testing_status'], linewidth=3, marker='o', markersize=5)\n",
    "plt.plot(repo3['testing_status'], linewidth=3, marker='o', markersize=5)\n",
    "plt.plot(repo4['testing_status'], linewidth=3, marker='o', markersize=5)\n",
    "plt.plot(repo5['testing_status'], linewidth=3, marker='o', markersize=5)\n",
    "plt.plot(repo6['testing_status'], linewidth=3, marker='o', markersize=5)"
   ]
  },
  {
   "cell_type": "code",
   "execution_count": 821,
   "metadata": {},
   "outputs": [],
   "source": [
    "repo1['Maintainability'] = repo1['code_quality'] * pc1\n",
    "repo1['Reliability'] = repo1['testing_status'] * pc2\n",
    "repo1['total'] = repo1['Maintainability'] + repo1['Reliability']\n",
    "\n",
    "repo2['Maintainability'] = repo2['code_quality'] * pc1\n",
    "repo2['Reliability'] = repo2['testing_status'] * pc2\n",
    "repo2['total'] = repo2['Maintainability'] + repo2['Reliability']\n",
    "\n",
    "repo3['Maintainability'] = repo3['code_quality'] * pc1\n",
    "repo3['Reliability'] = repo3['testing_status'] * pc2\n",
    "repo3['total'] = repo3['Maintainability'] + repo3['Reliability']\n",
    "\n",
    "repo4['Maintainability'] = repo4['code_quality'] * pc1\n",
    "repo4['Reliability'] = repo4['testing_status'] * pc2\n",
    "repo4['total'] = repo4['Maintainability'] + repo4['Reliability']\n",
    "\n",
    "repo5['Maintainability'] = repo5['code_quality'] * pc1\n",
    "repo5['Reliability'] = repo5['testing_status'] * pc2\n",
    "repo5['total'] = repo5['Maintainability'] + repo5['Reliability']\n",
    "\n",
    "repo6['Maintainability'] = repo6['code_quality'] * pc1\n",
    "repo6['Reliability'] = repo6['testing_status'] * pc2\n",
    "repo6['total'] = repo6['Maintainability'] + repo6['Reliability']"
   ]
  },
  {
   "cell_type": "code",
   "execution_count": 822,
   "metadata": {},
   "outputs": [
    {
     "data": {
      "text/html": [
       "<div>\n",
       "<style scoped>\n",
       "    .dataframe tbody tr th:only-of-type {\n",
       "        vertical-align: middle;\n",
       "    }\n",
       "\n",
       "    .dataframe tbody tr th {\n",
       "        vertical-align: top;\n",
       "    }\n",
       "\n",
       "    .dataframe thead th {\n",
       "        text-align: right;\n",
       "    }\n",
       "</style>\n",
       "<table border=\"1\" class=\"dataframe\">\n",
       "  <thead>\n",
       "    <tr style=\"text-align: right;\">\n",
       "      <th></th>\n",
       "      <th>m1</th>\n",
       "      <th>m2</th>\n",
       "      <th>m3</th>\n",
       "      <th>m4</th>\n",
       "      <th>m5</th>\n",
       "      <th>m6</th>\n",
       "      <th>repository</th>\n",
       "      <th>version</th>\n",
       "      <th>ncloc</th>\n",
       "      <th>code_quality</th>\n",
       "      <th>testing_status</th>\n",
       "      <th>Maintainability</th>\n",
       "      <th>Reliability</th>\n",
       "      <th>total</th>\n",
       "    </tr>\n",
       "  </thead>\n",
       "  <tbody>\n",
       "    <tr>\n",
       "      <th>0</th>\n",
       "      <td>0.884615</td>\n",
       "      <td>0.038462</td>\n",
       "      <td>0.884615</td>\n",
       "      <td>0</td>\n",
       "      <td>0</td>\n",
       "      <td>0.0</td>\n",
       "      <td>fga-eps-mds-2022-1-PUMA-Frontend</td>\n",
       "      <td>3.1.3</td>\n",
       "      <td>12078</td>\n",
       "      <td>0.596538</td>\n",
       "      <td>0.0</td>\n",
       "      <td>0.298269</td>\n",
       "      <td>0.0</td>\n",
       "      <td>0.298269</td>\n",
       "    </tr>\n",
       "    <tr>\n",
       "      <th>1</th>\n",
       "      <td>0.884615</td>\n",
       "      <td>0.038462</td>\n",
       "      <td>0.884615</td>\n",
       "      <td>0</td>\n",
       "      <td>0</td>\n",
       "      <td>0.0</td>\n",
       "      <td>fga-eps-mds-2022-1-PUMA-Frontend</td>\n",
       "      <td>3.1.4</td>\n",
       "      <td>48312</td>\n",
       "      <td>0.596538</td>\n",
       "      <td>0.0</td>\n",
       "      <td>0.298269</td>\n",
       "      <td>0.0</td>\n",
       "      <td>0.298269</td>\n",
       "    </tr>\n",
       "    <tr>\n",
       "      <th>2</th>\n",
       "      <td>0.944056</td>\n",
       "      <td>0.006993</td>\n",
       "      <td>0.860140</td>\n",
       "      <td>0</td>\n",
       "      <td>0</td>\n",
       "      <td>0.0</td>\n",
       "      <td>fga-eps-mds-2022-1-PUMA-Frontend</td>\n",
       "      <td>3.1.5</td>\n",
       "      <td>75758</td>\n",
       "      <td>0.597692</td>\n",
       "      <td>0.0</td>\n",
       "      <td>0.298846</td>\n",
       "      <td>0.0</td>\n",
       "      <td>0.298846</td>\n",
       "    </tr>\n",
       "    <tr>\n",
       "      <th>3</th>\n",
       "      <td>0.952381</td>\n",
       "      <td>0.000000</td>\n",
       "      <td>0.952381</td>\n",
       "      <td>0</td>\n",
       "      <td>0</td>\n",
       "      <td>0.0</td>\n",
       "      <td>fga-eps-mds-2022-1-PUMA-Frontend</td>\n",
       "      <td>3.1.6</td>\n",
       "      <td>107677</td>\n",
       "      <td>0.628571</td>\n",
       "      <td>0.0</td>\n",
       "      <td>0.314286</td>\n",
       "      <td>0.0</td>\n",
       "      <td>0.314286</td>\n",
       "    </tr>\n",
       "  </tbody>\n",
       "</table>\n",
       "</div>"
      ],
      "text/plain": [
       "         m1        m2        m3  m4  m5   m6  \\\n",
       "0  0.884615  0.038462  0.884615   0   0  0.0   \n",
       "1  0.884615  0.038462  0.884615   0   0  0.0   \n",
       "2  0.944056  0.006993  0.860140   0   0  0.0   \n",
       "3  0.952381  0.000000  0.952381   0   0  0.0   \n",
       "\n",
       "                         repository version   ncloc  code_quality  \\\n",
       "0  fga-eps-mds-2022-1-PUMA-Frontend   3.1.3   12078      0.596538   \n",
       "1  fga-eps-mds-2022-1-PUMA-Frontend   3.1.4   48312      0.596538   \n",
       "2  fga-eps-mds-2022-1-PUMA-Frontend   3.1.5   75758      0.597692   \n",
       "3  fga-eps-mds-2022-1-PUMA-Frontend   3.1.6  107677      0.628571   \n",
       "\n",
       "   testing_status  Maintainability  Reliability     total  \n",
       "0             0.0         0.298269          0.0  0.298269  \n",
       "1             0.0         0.298269          0.0  0.298269  \n",
       "2             0.0         0.298846          0.0  0.298846  \n",
       "3             0.0         0.314286          0.0  0.314286  "
      ]
     },
     "execution_count": 822,
     "metadata": {},
     "output_type": "execute_result"
    }
   ],
   "source": [
    "repo1"
   ]
  },
  {
   "cell_type": "code",
   "execution_count": 803,
   "metadata": {
    "pycharm": {
     "name": "#%%\n"
    }
   },
   "outputs": [
    {
     "data": {
      "text/plain": [
       "(0.1, 1.1)"
      ]
     },
     "execution_count": 803,
     "metadata": {},
     "output_type": "execute_result"
    },
    {
     "data": {
      "image/png": "[encoded data removed]",
      "text/plain": [
       "<Figure size 432x288 with 1 Axes>"
      ]
     },
     "metadata": {
      "needs_background": "light"
     },
     "output_type": "display_data"
    }
   ],
   "source": [
    "plt.plot(repo1['Maintainability'], linewidth=3, marker='o', markersize=5)\n",
    "plt.plot(repo1['Reliability'], linewidth=3, marker='*', markersize=5)\n",
    "plt.plot(repo1['total'], linewidth=3, marker='X', markersize=5)\n",
    "\n",
    "plt.ylim(0.1,1.1)"
   ]
  },
  {
   "cell_type": "code",
   "execution_count": 804,
   "metadata": {
    "collapsed": false,
    "pycharm": {
     "name": "#%%\n"
    }
   },
   "outputs": [
    {
     "data": {
      "text/html": [
       "<div>\n",
       "<style scoped>\n",
       "    .dataframe tbody tr th:only-of-type {\n",
       "        vertical-align: middle;\n",
       "    }\n",
       "\n",
       "    .dataframe tbody tr th {\n",
       "        vertical-align: top;\n",
       "    }\n",
       "\n",
       "    .dataframe thead th {\n",
       "        text-align: right;\n",
       "    }\n",
       "</style>\n",
       "<table border=\"1\" class=\"dataframe\">\n",
       "  <thead>\n",
       "    <tr style=\"text-align: right;\">\n",
       "      <th></th>\n",
       "      <th>m1</th>\n",
       "      <th>m2</th>\n",
       "      <th>m3</th>\n",
       "      <th>m4</th>\n",
       "      <th>m5</th>\n",
       "      <th>m6</th>\n",
       "      <th>repository</th>\n",
       "      <th>version</th>\n",
       "      <th>ncloc</th>\n",
       "      <th>code_quality</th>\n",
       "      <th>testing_status</th>\n",
       "      <th>Maintainability</th>\n",
       "      <th>Reliability</th>\n",
       "      <th>total</th>\n",
       "    </tr>\n",
       "  </thead>\n",
       "  <tbody>\n",
       "  </tbody>\n",
       "</table>\n",
       "</div>"
      ],
      "text/plain": [
       "Empty DataFrame\n",
       "Columns: [m1, m2, m3, m4, m5, m6, repository, version, ncloc, code_quality, testing_status, Maintainability, Reliability, total]\n",
       "Index: []"
      ]
     },
     "execution_count": 804,
     "metadata": {},
     "output_type": "execute_result"
    }
   ],
   "source": [
    "repo2"
   ]
  },
  {
   "cell_type": "code",
   "execution_count": 805,
   "metadata": {
    "collapsed": false,
    "pycharm": {
     "name": "#%%\n"
    }
   },
   "outputs": [
    {
     "data": {
      "text/plain": [
       "Ellipsis"
      ]
     },
     "execution_count": 805,
     "metadata": {},
     "output_type": "execute_result"
    },
    {
     "data": {
      "image/png": "[encoded data removed]",
      "text/plain": [
       "<Figure size 432x288 with 1 Axes>"
      ]
     },
     "metadata": {
      "needs_background": "light"
     },
     "output_type": "display_data"
    }
   ],
   "source": [
    "plt.plot(repo2['Maintainability'], linewidth=3, marker='o', markersize=5)\n",
    "plt.plot(repo2['Reliability'], linewidth=3, marker='*', markersize=5)\n",
    "plt.plot(repo2['total'], linewidth=3, marker='X', markersize=5)\n",
    "\n",
    "plt.ylim(0.1,1.1)\n",
    "\n",
    "plt.plot(repo2['Maintainability'], linewidth=3, marker='o', markersize=5)\n",
    "plt.plot(repo2['Reliability'], linewidth=3, marker='*', markersize=5)\n",
    "plt.plot(repo2['total'], linewidth=3, marker='X', markersize=5)\n",
    "\n",
    "plt.ylim(0.1,1.1)\n",
    "\n",
    "plt.plot(repo3['Maintainability'], linewidth=3, marker='o', markersize=5)\n",
    "plt.plot(repo3['Reliability'], linewidth=3, marker='*', markersize=5)\n",
    "plt.plot(repo3['total'], linewidth=3, marker='X', markersize=5)\n",
    "\n",
    "plt.ylim(0.1,1.1)\n",
    "\n",
    "plt.plot(repo4['Maintainability'], linewidth=3, marker='o', markersize=5)\n",
    "plt.plot(repo4['Reliability'], linewidth=3, marker='*', markersize=5)\n",
    "plt.plot(repo4['total'], linewidth=3, marker='X', markersize=5)\n",
    "\n",
    "plt.ylim(0.1,1.1)\n",
    "\n",
    "plt.plot(repo5['Maintainability'], linewidth=3, marker='o', markersize=5)\n",
    "plt.plot(repo5['Reliability'], linewidth=3, marker='*', markersize=5)\n",
    "plt.plot(repo5['total'], linewidth=3, marker='X', markersize=5)\n",
    "\n",
    "plt.ylim(0.1,1.1)\n",
    "\n",
    "plt.plot(repo6['Maintainability'], linewidth=3, marker='o', markersize=5)\n",
    "plt.plot(repo6['Reliability'], linewidth=3, marker='*', markersize=5)\n",
    "plt.plot(repo6['total'], linewidth=3, marker='X', markersize=5)\n",
    "\n",
    "plt.ylim(0.1,1.1)"
   ]
  },
  {
   "cell_type": "markdown",
   "metadata": {
    "collapsed": false
   },
   "source": [
    "### You must do the total plot and the statics analysis for the repository with more versions."
   ]
  },
  {
   "cell_type": "code",
   "execution_count": 806,
   "metadata": {
    "collapsed": false,
    "pycharm": {
     "name": "#%%\n"
    }
   },
   "outputs": [],
   "source": [
    "# Building descriptive statistics dataframe. You must replace YourRepoName for your repository name with more product versions.\n",
    "\n",
    "metrics_df = pd.concat([repo1, repo2, repo3, repo4, repo5, repo6], ignore_index=True)\n",
    "\n",
    "more_versions_repo = metrics_df[metrics_df['repository'] == 'YourRepoName']\n",
    "\n",
    "def get_characteristc_stats(repo_series):\n",
    "    return {\n",
    "        'mean': repo_series.mean(),\n",
    "        'mode': repo_series.mode(),\n",
    "        'median': repo_series.median(),\n",
    "        'std': repo_series.std(),\n",
    "        'var': repo_series.var(),\n",
    "        'min': repo_series.min(),\n",
    "        'max': repo_series.max()\n",
    "    }\n",
    "\n",
    "maintainability_stats = pd.DataFrame(get_characteristc_stats(more_versions_repo[\"Maintainability\"]),\n",
    "                                     columns=['mean', 'mode', 'median', 'std', 'var', 'min', 'max'])\n",
    "\n",
    "reliability_stats = pd.DataFrame(get_characteristc_stats(more_versions_repo[\"Reliability\"]),\n",
    "                                 columns=['mean', 'mode', 'median', 'std', 'var', 'min', 'max'])"
   ]
  },
  {
   "cell_type": "code",
   "execution_count": 807,
   "metadata": {
    "collapsed": false,
    "pycharm": {
     "name": "#%%\n"
    }
   },
   "outputs": [
    {
     "name": "stdout",
     "output_type": "stream",
     "text": [
      "Empty DataFrame\n",
      "Columns: [mean, mode, median, std, var, min, max]\n",
      "Index: []\n"
     ]
    }
   ],
   "source": [
    "print(maintainability_stats)"
   ]
  },
  {
   "cell_type": "code",
   "execution_count": 808,
   "metadata": {
    "collapsed": false,
    "pycharm": {
     "name": "#%%\n"
    }
   },
   "outputs": [
    {
     "name": "stdout",
     "output_type": "stream",
     "text": [
      "Empty DataFrame\n",
      "Columns: [mean, mode, median, std, var, min, max]\n",
      "Index: []\n"
     ]
    }
   ],
   "source": [
    "print(reliability_stats)"
   ]
  },
  {
   "cell_type": "markdown",
   "metadata": {
    "collapsed": false
   },
   "source": [
    "### Plotting the aggregated quality characteristic indicator"
   ]
  },
  {
   "cell_type": "code",
   "execution_count": 809,
   "metadata": {
    "collapsed": false,
    "pycharm": {
     "name": "#%%\n"
    }
   },
   "outputs": [
    {
     "data": {
      "text/plain": [
       "{'whiskers': [<matplotlib.lines.Line2D at 0x7fae44d601c0>,\n",
       "  <matplotlib.lines.Line2D at 0x7fae44d60490>,\n",
       "  <matplotlib.lines.Line2D at 0x7fae44d6f5b0>,\n",
       "  <matplotlib.lines.Line2D at 0x7fae44d6f880>],\n",
       " 'caps': [<matplotlib.lines.Line2D at 0x7fae44d60760>,\n",
       "  <matplotlib.lines.Line2D at 0x7fae44d60a30>,\n",
       "  <matplotlib.lines.Line2D at 0x7fae44d6fb50>,\n",
       "  <matplotlib.lines.Line2D at 0x7fae44d6fe20>],\n",
       " 'boxes': [<matplotlib.lines.Line2D at 0x7fae44d51eb0>,\n",
       "  <matplotlib.lines.Line2D at 0x7fae44d6f2e0>],\n",
       " 'medians': [<matplotlib.lines.Line2D at 0x7fae44d60d00>,\n",
       "  <matplotlib.lines.Line2D at 0x7fae44d7a130>],\n",
       " 'fliers': [<matplotlib.lines.Line2D at 0x7fae44d60fd0>,\n",
       "  <matplotlib.lines.Line2D at 0x7fae44d7a400>],\n",
       " 'means': []}"
      ]
     },
     "execution_count": 809,
     "metadata": {},
     "output_type": "execute_result"
    },
    {
     "data": {
      "image/png": "[encoded data removed]",
      "text/plain": [
       "<Figure size 1440x720 with 1 Axes>"
      ]
     },
     "metadata": {
      "needs_background": "light"
     },
     "output_type": "display_data"
    }
   ],
   "source": [
    "plt.figure(figsize=(20, 10))\n",
    "\n",
    "# boxplot\n",
    "plt.boxplot([more_versions_repo['Maintainability'], more_versions_repo['Reliability']],\n",
    "labels=['Maintainability', 'Reliability'])"
   ]
  },
  {
   "cell_type": "markdown",
   "metadata": {
    "collapsed": false
   },
   "source": [
    "### Plotting the aggregated repository quality indicator"
   ]
  },
  {
   "cell_type": "code",
   "execution_count": 810,
   "metadata": {
    "pycharm": {
     "name": "#%%\n"
    }
   },
   "outputs": [
    {
     "data": {
      "text/plain": [
       "(0.1, 1.0)"
      ]
     },
     "execution_count": 810,
     "metadata": {},
     "output_type": "execute_result"
    },
    {
     "data": {
      "image/png": "[encoded data removed]",
      "text/plain": [
       "<Figure size 432x288 with 1 Axes>"
      ]
     },
     "metadata": {
      "needs_background": "light"
     },
     "output_type": "display_data"
    }
   ],
   "source": [
    "plt.plot(more_versions_repo['total'], linewidth=3, marker='o', markersize=5)\n",
    "\n",
    "plt.ylim(.1,1)"
   ]
  },
  {
   "cell_type": "markdown",
   "metadata": {
    "collapsed": false
   },
   "source": []
  },
  {
   "cell_type": "code",
   "execution_count": 812,
   "metadata": {},
   "outputs": [],
   "source": [
    "# DATE FORMAT: MM-DD-YYYY-HH:MM:SS\n",
    "currentDateTime = datetime.datetime.now().strftime(\"%m-%d-%Y-%H:%M:%S\")\n",
    "\n",
    "metrics_df.to_excel('fga-eps-mds-2022-1-PUMA-Doc-{}.xlsx'.format(currentDateTime), index = False)\n",
    "\n",
    "metrics_df.to_csv('fga-eps-mds-2022-1-PUMA-Doc-{}.csv'.format(currentDateTime), index = False)"
   ]
  }
 ],
 "metadata": {
  "kernelspec": {
   "display_name": "Python 3.8.10 64-bit",
   "language": "python",
   "name": "python3"
  },
  "language_info": {
   "codemirror_mode": {
    "name": "ipython",
    "version": 3
   },
   "file_extension": ".py",
   "mimetype": "text/x-python",
   "name": "python",
   "nbconvert_exporter": "python",
   "pygments_lexer": "ipython3",
   "version": "3.8.10"
  },
  "vscode": {
   "interpreter": {
    "hash": "31f2aee4e71d21fbe5cf8b01ff0e069b9275f58929596ceb00d14d90e3e16cd6"
   }
  }
 },
 "nbformat": 4,
 "nbformat_minor": 4
}
